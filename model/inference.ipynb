{
 "cells": [
  {
   "cell_type": "code",
   "execution_count": 5,
   "id": "a25ff63d",
   "metadata": {
    "collapsed": true
   },
   "outputs": [
    {
     "name": "stdout",
     "output_type": "stream",
     "text": [
      "Defaulting to user installation because normal site-packages is not writeable\n",
      "Requirement already satisfied: voila in /home/pgavazov/.local/lib/python3.10/site-packages (0.5.5)\n",
      "Requirement already satisfied: jupyter-server<3,>=2.0.0 in /home/pgavazov/.local/lib/python3.10/site-packages (from voila) (2.12.4)\n",
      "Requirement already satisfied: jupyterlab-server<3,>=2.3.0 in /home/pgavazov/.local/lib/python3.10/site-packages (from voila) (2.25.2)\n",
      "Requirement already satisfied: traitlets<6,>=5.0.3 in /home/pgavazov/.local/lib/python3.10/site-packages (from voila) (5.9.0)\n",
      "Requirement already satisfied: jupyter-core>=4.11.0 in /home/pgavazov/.local/lib/python3.10/site-packages (from voila) (5.3.1)\n",
      "Requirement already satisfied: jupyter-client<9,>=7.4.4 in /home/pgavazov/.local/lib/python3.10/site-packages (from voila) (8.3.0)\n",
      "Requirement already satisfied: websockets>=9.0 in /home/pgavazov/.local/lib/python3.10/site-packages (from voila) (11.0.3)\n",
      "Requirement already satisfied: nbconvert<8,>=6.4.5 in /home/pgavazov/.local/lib/python3.10/site-packages (from voila) (7.7.4)\n",
      "Requirement already satisfied: nbclient<0.8,>=0.4.0 in /home/pgavazov/.local/lib/python3.10/site-packages (from voila) (0.7.4)\n",
      "Requirement already satisfied: tornado>=6.2 in /home/pgavazov/.local/lib/python3.10/site-packages (from jupyter-client<9,>=7.4.4->voila) (6.3.3)\n",
      "Requirement already satisfied: pyzmq>=23.0 in /home/pgavazov/.local/lib/python3.10/site-packages (from jupyter-client<9,>=7.4.4->voila) (25.1.1)\n",
      "Requirement already satisfied: python-dateutil>=2.8.2 in /home/pgavazov/.local/lib/python3.10/site-packages (from jupyter-client<9,>=7.4.4->voila) (2.8.2)\n",
      "Requirement already satisfied: platformdirs>=2.5 in /home/pgavazov/.local/lib/python3.10/site-packages (from jupyter-core>=4.11.0->voila) (3.10.0)\n",
      "Requirement already satisfied: prometheus-client in /home/pgavazov/.local/lib/python3.10/site-packages (from jupyter-server<3,>=2.0.0->voila) (0.19.0)\n",
      "Requirement already satisfied: jupyter-server-terminals in /home/pgavazov/.local/lib/python3.10/site-packages (from jupyter-server<3,>=2.0.0->voila) (0.5.1)\n",
      "Requirement already satisfied: nbformat>=5.3.0 in /home/pgavazov/.local/lib/python3.10/site-packages (from jupyter-server<3,>=2.0.0->voila) (5.9.2)\n",
      "Requirement already satisfied: overrides in /home/pgavazov/.local/lib/python3.10/site-packages (from jupyter-server<3,>=2.0.0->voila) (7.4.0)\n",
      "Requirement already satisfied: anyio>=3.1.0 in /home/pgavazov/.local/lib/python3.10/site-packages (from jupyter-server<3,>=2.0.0->voila) (4.2.0)\n",
      "Requirement already satisfied: send2trash>=1.8.2 in /home/pgavazov/.local/lib/python3.10/site-packages (from jupyter-server<3,>=2.0.0->voila) (1.8.2)\n",
      "Requirement already satisfied: jupyter-events>=0.9.0 in /home/pgavazov/.local/lib/python3.10/site-packages (from jupyter-server<3,>=2.0.0->voila) (0.9.0)\n",
      "Requirement already satisfied: jinja2 in /home/pgavazov/.local/lib/python3.10/site-packages (from jupyter-server<3,>=2.0.0->voila) (3.1.2)\n",
      "Requirement already satisfied: packaging in /home/pgavazov/.local/lib/python3.10/site-packages (from jupyter-server<3,>=2.0.0->voila) (23.1)\n",
      "Requirement already satisfied: terminado>=0.8.3 in /home/pgavazov/.local/lib/python3.10/site-packages (from jupyter-server<3,>=2.0.0->voila) (0.18.0)\n",
      "Requirement already satisfied: argon2-cffi in /home/pgavazov/.local/lib/python3.10/site-packages (from jupyter-server<3,>=2.0.0->voila) (23.1.0)\n",
      "Requirement already satisfied: websocket-client in /usr/lib/python3/dist-packages (from jupyter-server<3,>=2.0.0->voila) (1.2.3)\n",
      "Requirement already satisfied: babel>=2.10 in /home/pgavazov/.local/lib/python3.10/site-packages (from jupyterlab-server<3,>=2.3.0->voila) (2.14.0)\n",
      "Requirement already satisfied: json5>=0.9.0 in /home/pgavazov/.local/lib/python3.10/site-packages (from jupyterlab-server<3,>=2.3.0->voila) (0.9.14)\n",
      "Requirement already satisfied: jsonschema>=4.18.0 in /home/pgavazov/.local/lib/python3.10/site-packages (from jupyterlab-server<3,>=2.3.0->voila) (4.19.0)\n",
      "Requirement already satisfied: requests>=2.31 in /home/pgavazov/.local/lib/python3.10/site-packages (from jupyterlab-server<3,>=2.3.0->voila) (2.31.0)\n",
      "Requirement already satisfied: beautifulsoup4 in /home/pgavazov/.local/lib/python3.10/site-packages (from nbconvert<8,>=6.4.5->voila) (4.12.2)\n",
      "Requirement already satisfied: pygments>=2.4.1 in /home/pgavazov/.local/lib/python3.10/site-packages (from nbconvert<8,>=6.4.5->voila) (2.15.1)\n",
      "Requirement already satisfied: markupsafe>=2.0 in /home/pgavazov/.local/lib/python3.10/site-packages (from nbconvert<8,>=6.4.5->voila) (2.1.3)\n",
      "Requirement already satisfied: jupyterlab-pygments in /home/pgavazov/.local/lib/python3.10/site-packages (from nbconvert<8,>=6.4.5->voila) (0.2.2)\n",
      "Requirement already satisfied: tinycss2 in /home/pgavazov/.local/lib/python3.10/site-packages (from nbconvert<8,>=6.4.5->voila) (1.2.1)\n",
      "Requirement already satisfied: bleach!=5.0.0 in /home/pgavazov/.local/lib/python3.10/site-packages (from nbconvert<8,>=6.4.5->voila) (6.0.0)\n",
      "Requirement already satisfied: defusedxml in /home/pgavazov/.local/lib/python3.10/site-packages (from nbconvert<8,>=6.4.5->voila) (0.7.1)\n",
      "Requirement already satisfied: mistune<4,>=2.0.3 in /home/pgavazov/.local/lib/python3.10/site-packages (from nbconvert<8,>=6.4.5->voila) (3.0.1)\n",
      "Requirement already satisfied: pandocfilters>=1.4.1 in /home/pgavazov/.local/lib/python3.10/site-packages (from nbconvert<8,>=6.4.5->voila) (1.5.0)\n",
      "Requirement already satisfied: idna>=2.8 in /usr/lib/python3/dist-packages (from anyio>=3.1.0->jupyter-server<3,>=2.0.0->voila) (3.3)\n",
      "Requirement already satisfied: sniffio>=1.1 in /home/pgavazov/.local/lib/python3.10/site-packages (from anyio>=3.1.0->jupyter-server<3,>=2.0.0->voila) (1.3.0)\n",
      "Requirement already satisfied: typing-extensions>=4.1 in /home/pgavazov/.local/lib/python3.10/site-packages (from anyio>=3.1.0->jupyter-server<3,>=2.0.0->voila) (4.10.0)\n",
      "Requirement already satisfied: exceptiongroup>=1.0.2 in /home/pgavazov/.local/lib/python3.10/site-packages (from anyio>=3.1.0->jupyter-server<3,>=2.0.0->voila) (1.2.0)\n",
      "Requirement already satisfied: six>=1.9.0 in /usr/lib/python3/dist-packages (from bleach!=5.0.0->nbconvert<8,>=6.4.5->voila) (1.16.0)\n",
      "Requirement already satisfied: webencodings in /home/pgavazov/.local/lib/python3.10/site-packages (from bleach!=5.0.0->nbconvert<8,>=6.4.5->voila) (0.5.1)\n",
      "Requirement already satisfied: attrs>=22.2.0 in /home/pgavazov/.local/lib/python3.10/site-packages (from jsonschema>=4.18.0->jupyterlab-server<3,>=2.3.0->voila) (23.1.0)\n",
      "Requirement already satisfied: jsonschema-specifications>=2023.03.6 in /home/pgavazov/.local/lib/python3.10/site-packages (from jsonschema>=4.18.0->jupyterlab-server<3,>=2.3.0->voila) (2023.7.1)\n",
      "Requirement already satisfied: rpds-py>=0.7.1 in /home/pgavazov/.local/lib/python3.10/site-packages (from jsonschema>=4.18.0->jupyterlab-server<3,>=2.3.0->voila) (0.9.2)\n",
      "Requirement already satisfied: referencing>=0.28.4 in /home/pgavazov/.local/lib/python3.10/site-packages (from jsonschema>=4.18.0->jupyterlab-server<3,>=2.3.0->voila) (0.30.2)\n",
      "Requirement already satisfied: pyyaml>=5.3 in /home/pgavazov/.local/lib/python3.10/site-packages (from jupyter-events>=0.9.0->jupyter-server<3,>=2.0.0->voila) (6.0)\n",
      "Requirement already satisfied: python-json-logger>=2.0.4 in /home/pgavazov/.local/lib/python3.10/site-packages (from jupyter-events>=0.9.0->jupyter-server<3,>=2.0.0->voila) (2.0.7)\n",
      "Requirement already satisfied: rfc3339-validator in /home/pgavazov/.local/lib/python3.10/site-packages (from jupyter-events>=0.9.0->jupyter-server<3,>=2.0.0->voila) (0.1.4)\n",
      "Requirement already satisfied: rfc3986-validator>=0.1.1 in /home/pgavazov/.local/lib/python3.10/site-packages (from jupyter-events>=0.9.0->jupyter-server<3,>=2.0.0->voila) (0.1.1)\n",
      "Requirement already satisfied: fastjsonschema in /home/pgavazov/.local/lib/python3.10/site-packages (from nbformat>=5.3.0->jupyter-server<3,>=2.0.0->voila) (2.18.0)\n",
      "Requirement already satisfied: certifi>=2017.4.17 in /usr/lib/python3/dist-packages (from requests>=2.31->jupyterlab-server<3,>=2.3.0->voila) (2020.6.20)\n",
      "Requirement already satisfied: charset-normalizer<4,>=2 in /home/pgavazov/.local/lib/python3.10/site-packages (from requests>=2.31->jupyterlab-server<3,>=2.3.0->voila) (3.1.0)\n",
      "Requirement already satisfied: urllib3<3,>=1.21.1 in /usr/lib/python3/dist-packages (from requests>=2.31->jupyterlab-server<3,>=2.3.0->voila) (1.26.5)\n"
     ]
    },
    {
     "name": "stdout",
     "output_type": "stream",
     "text": [
      "Requirement already satisfied: ptyprocess in /usr/lib/python3/dist-packages (from terminado>=0.8.3->jupyter-server<3,>=2.0.0->voila) (0.7.0)\n",
      "Requirement already satisfied: argon2-cffi-bindings in /home/pgavazov/.local/lib/python3.10/site-packages (from argon2-cffi->jupyter-server<3,>=2.0.0->voila) (21.2.0)\n",
      "Requirement already satisfied: soupsieve>1.2 in /home/pgavazov/.local/lib/python3.10/site-packages (from beautifulsoup4->nbconvert<8,>=6.4.5->voila) (2.4.1)\n",
      "Requirement already satisfied: jsonpointer>1.13 in /home/pgavazov/.local/lib/python3.10/site-packages (from jsonschema>=4.18.0->jupyterlab-server<3,>=2.3.0->voila) (2.4)\n",
      "Requirement already satisfied: fqdn in /home/pgavazov/.local/lib/python3.10/site-packages (from jsonschema>=4.18.0->jupyterlab-server<3,>=2.3.0->voila) (1.5.1)\n",
      "Requirement already satisfied: uri-template in /home/pgavazov/.local/lib/python3.10/site-packages (from jsonschema>=4.18.0->jupyterlab-server<3,>=2.3.0->voila) (1.3.0)\n",
      "Requirement already satisfied: isoduration in /home/pgavazov/.local/lib/python3.10/site-packages (from jsonschema>=4.18.0->jupyterlab-server<3,>=2.3.0->voila) (20.11.0)\n",
      "Requirement already satisfied: webcolors>=1.11 in /home/pgavazov/.local/lib/python3.10/site-packages (from jsonschema>=4.18.0->jupyterlab-server<3,>=2.3.0->voila) (1.13)\n",
      "Requirement already satisfied: cffi>=1.0.1 in /home/pgavazov/.local/lib/python3.10/site-packages (from argon2-cffi-bindings->argon2-cffi->jupyter-server<3,>=2.0.0->voila) (1.16.0)\n",
      "Requirement already satisfied: pycparser in /home/pgavazov/.local/lib/python3.10/site-packages (from cffi>=1.0.1->argon2-cffi-bindings->argon2-cffi->jupyter-server<3,>=2.0.0->voila) (2.21)\n",
      "Requirement already satisfied: arrow>=0.15.0 in /home/pgavazov/.local/lib/python3.10/site-packages (from isoduration->jsonschema>=4.18.0->jupyterlab-server<3,>=2.3.0->voila) (1.3.0)\n",
      "Requirement already satisfied: types-python-dateutil>=2.8.10 in /home/pgavazov/.local/lib/python3.10/site-packages (from arrow>=0.15.0->isoduration->jsonschema>=4.18.0->jupyterlab-server<3,>=2.3.0->voila) (2.8.19.20240106)\n",
      "Enabling: voila\n",
      "- Writing config: /usr/etc/jupyter\n",
      "Traceback (most recent call last):\n",
      "  File \"/home/pgavazov/.local/bin/jupyter-serverextension\", line 8, in <module>\n",
      "    sys.exit(main())\n",
      "  File \"/home/pgavazov/.local/lib/python3.10/site-packages/jupyter_core/application.py\", line 285, in launch_instance\n",
      "    return super().launch_instance(argv=argv, **kwargs)\n",
      "  File \"/home/pgavazov/.local/lib/python3.10/site-packages/traitlets/config/application.py\", line 1043, in launch_instance\n",
      "    app.start()\n",
      "  File \"/home/pgavazov/.local/lib/python3.10/site-packages/notebook/serverextensions.py\", line 289, in start\n",
      "    super().start()\n",
      "  File \"/home/pgavazov/.local/lib/python3.10/site-packages/jupyter_core/application.py\", line 274, in start\n",
      "    self.subapp.start()\n",
      "  File \"/home/pgavazov/.local/lib/python3.10/site-packages/notebook/serverextensions.py\", line 210, in start\n",
      "    self.toggle_server_extension(arg)\n",
      "  File \"/home/pgavazov/.local/lib/python3.10/site-packages/notebook/serverextensions.py\", line 181, in toggle_server_extension\n",
      "    toggle_serverextension_python(\n",
      "  File \"/home/pgavazov/.local/lib/python3.10/site-packages/notebook/serverextensions.py\", line 71, in toggle_serverextension_python\n",
      "    cm.update(\"jupyter_notebook_config\", cfg)\n",
      "  File \"/home/pgavazov/.local/lib/python3.10/site-packages/notebook/config_manager.py\", line 130, in update\n",
      "    self.set(section_name, data)\n",
      "  File \"/home/pgavazov/.local/lib/python3.10/site-packages/notebook/config_manager.py\", line 107, in set\n",
      "    self.ensure_config_dir_exists()\n",
      "  File \"/home/pgavazov/.local/lib/python3.10/site-packages/notebook/config_manager.py\", line 64, in ensure_config_dir_exists\n",
      "    os.makedirs(self.config_dir, 0o755)\n",
      "  File \"/usr/lib/python3.10/os.py\", line 215, in makedirs\n",
      "    makedirs(head, exist_ok=exist_ok)\n",
      "  File \"/usr/lib/python3.10/os.py\", line 225, in makedirs\n",
      "    mkdir(name, mode)\n",
      "PermissionError: [Errno 13] Permission denied: '/usr/etc'\n"
     ]
    }
   ],
   "source": [
    "#hide\n",
    "!pip install voila\n",
    "!jupyter serverextension enable --sys-prefix voila"
   ]
  },
  {
   "cell_type": "code",
   "execution_count": 6,
   "id": "b7f9f6b6",
   "metadata": {},
   "outputs": [],
   "source": [
    "from fastai.vision.all import *\n",
    "from fastai.vision.widgets import *"
   ]
  },
  {
   "cell_type": "code",
   "execution_count": 7,
   "id": "978a8556",
   "metadata": {},
   "outputs": [],
   "source": [
    "path = Path()\n",
    "learn_inf = load_learner(path/'brutalism_or_modernism.pkl', cpu=True)\n",
    "btn_upload = widgets.FileUpload()\n",
    "out_pl = widgets.Output()\n",
    "lbl_pred = widgets.Label()"
   ]
  },
  {
   "cell_type": "code",
   "execution_count": 8,
   "id": "0e8e37fe",
   "metadata": {},
   "outputs": [],
   "source": [
    "def on_data_change(change):\n",
    "    lbl_pred.value = ''\n",
    "    img = PILImage.create(btn_upload.data[-1])\n",
    "    out_pl.clear_output()\n",
    "    with out_pl: display(img.to_thumb(128,128))\n",
    "    pred,pred_idx,probs = learn_inf.predict(img)\n",
    "    lbl_pred.value = f'Prediction: {pred}; Probability: {probs[pred_idx]:.04f}'"
   ]
  },
  {
   "cell_type": "markdown",
   "id": "e2276ed5",
   "metadata": {},
   "source": [
    "Add an observer to the 'on_data_change' event of the upload button."
   ]
  },
  {
   "cell_type": "code",
   "execution_count": 9,
   "id": "7716f701",
   "metadata": {},
   "outputs": [],
   "source": [
    "btn_upload.observe(on_data_change, names=['data'])"
   ]
  },
  {
   "cell_type": "code",
   "execution_count": 10,
   "id": "6f4e6654",
   "metadata": {},
   "outputs": [
    {
     "data": {
      "application/vnd.jupyter.widget-view+json": {
       "model_id": "62ace19a35f14a4692ad6ff56aefdc58",
       "version_major": 2,
       "version_minor": 0
      },
      "text/plain": [
       "VBox(children=(Label(value='Select your building:'), FileUpload(value={}, description='Upload'), Output(), Lab…"
      ]
     },
     "metadata": {},
     "output_type": "display_data"
    },
    {
     "data": {
      "text/html": [
       "\n",
       "<style>\n",
       "    /* Turns off some styling */\n",
       "    progress {\n",
       "        /* gets rid of default border in Firefox and Opera. */\n",
       "        border: none;\n",
       "        /* Needs to be in here for Safari polyfill so background images work as expected. */\n",
       "        background-size: auto;\n",
       "    }\n",
       "    progress:not([value]), progress:not([value])::-webkit-progress-bar {\n",
       "        background: repeating-linear-gradient(45deg, #7e7e7e, #7e7e7e 10px, #5c5c5c 10px, #5c5c5c 20px);\n",
       "    }\n",
       "    .progress-bar-interrupted, .progress-bar-interrupted::-webkit-progress-bar {\n",
       "        background: #F44336;\n",
       "    }\n",
       "</style>\n"
      ],
      "text/plain": [
       "<IPython.core.display.HTML object>"
      ]
     },
     "metadata": {},
     "output_type": "display_data"
    },
    {
     "data": {
      "text/html": [],
      "text/plain": [
       "<IPython.core.display.HTML object>"
      ]
     },
     "metadata": {},
     "output_type": "display_data"
    }
   ],
   "source": [
    "display(VBox([widgets.Label('Select your building:'), btn_upload, out_pl, lbl_pred]))"
   ]
  }
 ],
 "metadata": {
  "kernelspec": {
   "display_name": "Python 3 (ipykernel)",
   "language": "python",
   "name": "python3"
  },
  "language_info": {
   "codemirror_mode": {
    "name": "ipython",
    "version": 3
   },
   "file_extension": ".py",
   "mimetype": "text/x-python",
   "name": "python",
   "nbconvert_exporter": "python",
   "pygments_lexer": "ipython3",
   "version": "3.10.12"
  }
 },
 "nbformat": 4,
 "nbformat_minor": 5
}
